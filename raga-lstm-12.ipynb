{
 "cells": [
  {
   "cell_type": "code",
   "execution_count": null,
   "metadata": {},
   "outputs": [],
   "source": [
    "import librosa\n",
    "from tqdm import tqdm\n",
    "import numpy as np\n",
    "from glob import glob\n",
    "import matplotlib.pyplot as plt\n",
    "import os"
   ]
  },
  {
   "cell_type": "code",
   "execution_count": null,
   "metadata": {},
   "outputs": [],
   "source": [
    "os.chdir('/Users/macbook/Desktop/')"
   ]
  },
  {
   "cell_type": "code",
   "execution_count": null,
   "metadata": {},
   "outputs": [],
   "source": [
    "bhoop_sm = glob('./Raga_2.0/Bhoop/*')\n",
    "malhr_sm = glob('./Raga_2.0/Malhar/*')\n",
    "ngtiv_ng = glob('./Raga_2.0/Negative/*')"
   ]
  },
  {
   "cell_type": "code",
   "execution_count": null,
   "metadata": {},
   "outputs": [],
   "source": [
    "#malhr_fm = glob('./dataset/Malhar/Female/*')\n",
    "#malhr_ml = glob('./dataset/Malhar/Male/*')\n",
    "#malhr_ng = glob('./dataset/Malhar/Negative/*')"
   ]
  },
  {
   "cell_type": "code",
   "execution_count": null,
   "metadata": {},
   "outputs": [],
   "source": [
    "bhoop = bhoop_sm\n",
    "malhr = malhr_sm\n",
    "ngtiv = ngtiv_ng"
   ]
  },
  {
   "cell_type": "code",
   "execution_count": null,
   "metadata": {},
   "outputs": [],
   "source": [
    "print(\"Size of Classes:\")\n",
    "print(\"Bhoop:\", len(bhoop))\n",
    "print(\"Malhar:\", len(malhr))\n",
    "print(\"negative:\", len(ngtiv))"
   ]
  },
  {
   "cell_type": "markdown",
   "metadata": {},
   "source": [
    "# Data Pre-Processing"
   ]
  },
  {
   "cell_type": "code",
   "execution_count": null,
   "metadata": {},
   "outputs": [],
   "source": [
    "LENGTH  = 5      # Seconds\n",
    "SR      = 44100 \n",
    "N_FFT   = 2048    # width for FFT\n",
    "HOP_LG  = 512     # hop lenght for FFT\n",
    "N_MELS  = 128     # mel filters\n",
    "F_MIN   = 20      # min frequency\n",
    "F_MAX   = 8000    # max frequency"
   ]
  },
  {
   "cell_type": "code",
   "execution_count": null,
   "metadata": {},
   "outputs": [],
   "source": [
    "def get_mel_features(file_name):\n",
    "    \"\"\"\n",
    "    return mel spectrogram for given file\n",
    "    \"\"\"\n",
    "    import warnings\n",
    "    warnings.filterwarnings('ignore')\n",
    "    \n",
    "    # open file\n",
    "    wav, sr = librosa.load(file_name, sr=SR)\n",
    "    \n",
    "    # fix lengtrh\n",
    "    if len(wav) < LENGTH*sr:\n",
    "        pad_width = sr*LENGTH - len(wav)\n",
    "        wav = np.pad(wav, pad_width=(pad_width, 0))\n",
    "    else:\n",
    "        wav = wav[:LENGTH*sr]\n",
    "    \n",
    "    # get mel spectrogram\n",
    "    mel_spgr = librosa.feature.melspectrogram(wav, sr, \n",
    "                                   n_fft      = N_FFT, \n",
    "                                   hop_length = HOP_LG,)\n",
    "    \n",
    "    mel_spgr = librosa.power_to_db(mel_spgr)\n",
    "    \n",
    "    \n",
    "    # normalise\n",
    "    eps = 10e-6\n",
    "    mean    = mel_spgr.mean()\n",
    "    std     = mel_spgr.std()\n",
    "    mel_spgr = (mel_spgr - mean) / (std + eps)\n",
    "    \n",
    "    return mel_spgr"
   ]
  },
  {
   "cell_type": "code",
   "execution_count": null,
   "metadata": {},
   "outputs": [],
   "source": [
    "get_mel_features(bhoop[51])"
   ]
  },
  {
   "cell_type": "code",
   "execution_count": null,
   "metadata": {},
   "outputs": [],
   "source": [
    "# superwised learning X, y \n",
    "# [[1, 2, 3], ...] -> [label, ..]"
   ]
  },
  {
   "cell_type": "code",
   "execution_count": null,
   "metadata": {
    "scrolled": true
   },
   "outputs": [],
   "source": [
    "def get_data(file_list, target):\n",
    "    X_data, y_data = [], []\n",
    "    for file in tqdm(file_list):\n",
    "        x = get_mel_features(file)\n",
    "        X_data.append(x)\n",
    "        y_data.append(target)\n",
    "\n",
    "    X_data = np.array(X_data)\n",
    "    y_data = np.array(y_data)\n",
    "    \n",
    "    return X_data, y_data"
   ]
  },
  {
   "cell_type": "code",
   "execution_count": null,
   "metadata": {},
   "outputs": [],
   "source": [
    "label_names = {\n",
    "    'ngtiv':np.array([1,0,0]),\n",
    "    'bhoop':np.array([0,1,0]),\n",
    "    'malhr':np.array([0,0,1]),\n",
    "}\n",
    "\n",
    "label_indx2name = {\n",
    "    0:'ngtiv',\n",
    "    1:'bhoop',\n",
    "    2:'malhr',\n",
    "}"
   ]
  },
  {
   "cell_type": "code",
   "execution_count": null,
   "metadata": {},
   "outputs": [],
   "source": [
    "x1, y1 = get_data(bhoop, label_names['bhoop'])\n",
    "x2, y2 = get_data(malhr, label_names['malhr'])\n",
    "x3, y3 = get_data(ngtiv, label_names['ngtiv'])"
   ]
  },
  {
   "cell_type": "code",
   "execution_count": null,
   "metadata": {},
   "outputs": [],
   "source": [
    "X_data_dash = np.concatenate((x1,x2,x3), axis=0)\n",
    "y_data = np.concatenate((y1,y2,y3), axis=0)"
   ]
  },
  {
   "cell_type": "code",
   "execution_count": null,
   "metadata": {},
   "outputs": [],
   "source": [
    "X_data = X_data_dash.transpose(0,2,1) # after batch size leading axis should be time\n",
    "X_data.shape"
   ]
  },
  {
   "cell_type": "code",
   "execution_count": null,
   "metadata": {},
   "outputs": [],
   "source": [
    "y_data.shape"
   ]
  },
  {
   "cell_type": "markdown",
   "metadata": {},
   "source": [
    "# Model"
   ]
  },
  {
   "cell_type": "code",
   "execution_count": null,
   "metadata": {},
   "outputs": [],
   "source": [
    "import tensorflow as tf\n",
    "from tensorflow.keras.models import Model, Sequential\n",
    "from tensorflow.keras.layers import LSTM, Input, Dense, GlobalMaxPool1D\n",
    "from tensorflow.keras.optimizers import Adam"
   ]
  },
  {
   "cell_type": "code",
   "execution_count": null,
   "metadata": {},
   "outputs": [],
   "source": [
    "input_   = Input(shape=X_data.shape[1:])\n",
    "lstm     = LSTM(20, return_sequences=True, dropout=0.2, recurrent_dropout=0.1)\n",
    "maxPool  = GlobalMaxPool1D()\n",
    "dense    = Dense(3, activation='softmax')"
   ]
  },
  {
   "cell_type": "code",
   "execution_count": null,
   "metadata": {},
   "outputs": [],
   "source": [
    "model = Sequential()"
   ]
  },
  {
   "cell_type": "code",
   "execution_count": null,
   "metadata": {},
   "outputs": [],
   "source": [
    "model.add(input_)\n",
    "model.add(lstm)\n",
    "model.add(maxPool)\n",
    "model.add(dense)"
   ]
  },
  {
   "cell_type": "code",
   "execution_count": null,
   "metadata": {},
   "outputs": [],
   "source": [
    "model.summary()"
   ]
  },
  {
   "cell_type": "code",
   "execution_count": null,
   "metadata": {},
   "outputs": [],
   "source": [
    "model.compile(\n",
    "    loss='CategoricalCrossentropy',\n",
    "    optimizer=Adam(lr=0.001),\n",
    "    metrics=['accuracy'],\n",
    ")"
   ]
  },
  {
   "cell_type": "code",
   "execution_count": null,
   "metadata": {
    "scrolled": true
   },
   "outputs": [],
   "source": [
    "history = model.fit(\n",
    "    X_data, y_data,\n",
    "    batch_size=8,\n",
    "    epochs=5,\n",
    "    validation_split=0.2\n",
    ")"
   ]
  },
  {
   "cell_type": "code",
   "execution_count": null,
   "metadata": {},
   "outputs": [],
   "source": [
    "y_pred = model(X_data)"
   ]
  },
  {
   "cell_type": "code",
   "execution_count": null,
   "metadata": {},
   "outputs": [],
   "source": [
    "X_data.shape"
   ]
  },
  {
   "cell_type": "code",
   "execution_count": null,
   "metadata": {},
   "outputs": [],
   "source": [
    "def get_features(wav, sr):\n",
    "    \n",
    "    mel_spgr = librosa.feature.melspectrogram(wav, sr, \n",
    "                                   n_fft      = N_FFT, \n",
    "                                   hop_length = HOP_LG,)\n",
    "    \n",
    "    mel_spgr = librosa.power_to_db(mel_spgr)\n",
    "    \n",
    "    \n",
    "    # normalise\n",
    "    eps     = 10e-6\n",
    "    mean    = mel_spgr.mean()\n",
    "    std     = mel_spgr.std()\n",
    "    mel_spgr = (mel_spgr - mean) / (std + eps)\n",
    "    \n",
    "    return mel_spgr"
   ]
  },
  {
   "cell_type": "code",
   "execution_count": null,
   "metadata": {},
   "outputs": [],
   "source": [
    "test_file = './Bhoop_mk.mp3'"
   ]
  },
  {
   "cell_type": "code",
   "execution_count": null,
   "metadata": {},
   "outputs": [],
   "source": [
    "wav, sr = librosa.load(test_file, sr=SR)"
   ]
  },
  {
   "cell_type": "code",
   "execution_count": null,
   "metadata": {},
   "outputs": [],
   "source": [
    "#10sec sliding window\n",
    "for i in range(100):\n",
    "    wav_10 = wav[10*i*sr : 10*(i+1)*sr]\n",
    "    features = get_features(wav_10, sr).T\n",
    "    features = np.array([features])\n",
    "    output_tensor = model(features)\n",
    "    max_index = np.argmax(output_tensor.numpy(), axis=1)\n",
    "    print(10*i,'\\t->\\t',10*(i+1),'\\t', label_indx2name[max_index[0]])"
   ]
  },
  {
   "cell_type": "code",
   "execution_count": null,
   "metadata": {},
   "outputs": [],
   "source": []
  }
 ],
 "metadata": {
  "kernelspec": {
   "display_name": "Python 3",
   "language": "python",
   "name": "python3"
  },
  "language_info": {
   "codemirror_mode": {
    "name": "ipython",
    "version": 3
   },
   "file_extension": ".py",
   "mimetype": "text/x-python",
   "name": "python",
   "nbconvert_exporter": "python",
   "pygments_lexer": "ipython3",
   "version": "3.8.3"
  }
 },
 "nbformat": 4,
 "nbformat_minor": 4
}
